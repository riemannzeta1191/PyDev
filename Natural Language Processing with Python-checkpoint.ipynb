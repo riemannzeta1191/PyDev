{
 "cells": [
  {
   "cell_type": "code",
   "execution_count": 1,
   "metadata": {
    "collapsed": true
   },
   "outputs": [],
   "source": [
    "import nltk"
   ]
  },
  {
   "cell_type": "code",
   "execution_count": 19,
   "metadata": {
    "collapsed": true
   },
   "outputs": [],
   "source": [
    "from nltk.tokenize import sent_tokenize,word_tokenize\n",
    "from nltk.corpus import stopwords\n",
    "from collections import defaultdict\n",
    "from string import punctuation\n",
    "from heapq import nlargest\n"
   ]
  },
  {
   "cell_type": "code",
   "execution_count": 11,
   "metadata": {
    "collapsed": false
   },
   "outputs": [],
   "source": [
    "class FrequencySummarizer(object):\n",
    "    def __init__(self, min_cut, max_cut):\n",
    "        self._min_cut = min_cut\n",
    "        self._max_cut = max_cut\n",
    "        self._stopwords = set(stopwords.words('english') + list(punctuation))\n",
    "        \n",
    "    def _compute_frequencies(self,word_sent):\n",
    "        freq = defaultdict(int)\n",
    "        for sentence in word_sent:\n",
    "            for word in sentence:\n",
    "                if word not in self._stopwords:\n",
    "                    freq[word] +=1\n",
    "        m = float(max(freq.values()))\n",
    "        for w in freq.keys():\n",
    "            freq[w]  = freq[w]/m\n",
    "            if freq[w] >= self._max_cut or freq[w] <= self._min_cut:\n",
    "                del freq[w]\n",
    "        return freq\n",
    "    \n",
    "    def summarize(self,text,n):\n",
    "        \n",
    "        sents = sent_tokenize(text)\n",
    "        assert n <= len(sents)\n",
    "        word_sent = [word_tokenize(s.lower()) for s in sents]\n",
    "        self._freq = self._compute_frequencies(word_sent)\n",
    "        ranking = defaultdict(int)\n",
    "        for i,sent in enumerate(word_sent):\n",
    "            for w in sent:\n",
    "                if w in self._freq:\n",
    "                    ranking[i] += self._freq[w]\n",
    "                    \n",
    "        sents_idx = nlargest(n, ranking, key=ranking.get)            \n",
    "        return [sents[j] for j in sents_idx]\n",
    "            "
   ]
  },
  {
   "cell_type": "code",
   "execution_count": 16,
   "metadata": {
    "collapsed": true
   },
   "outputs": [],
   "source": [
    "import urllib2\n",
    "from bs4 import BeautifulSoup\n",
    "\n",
    "\n",
    "def get_only_text_washington_post_url(url):\n",
    "    \n",
    "    \n",
    "    page = urllib2.urlopen(url).read().decode('utf8')\n",
    "    # download the URL\n",
    "    soup = BeautifulSoup(page)\n",
    "    # initialise a BeautifulSoup object with the text of that URL\n",
    "    text = ' '.join(map(lambda p: p.text, soup.find_all('article')))\n",
    "    # use this code to get everything in that text that lies between a pair of \n",
    "    # <article> and </article> tags. We do this because we know that the URLs we are currently\n",
    "    # interested in - those from the WashingtonPost have this nice property\n",
    "\n",
    "    # OK - we got everything between the <article> and </article> tags, but that everything\n",
    "    # includes a bunch of other stuff we don't want\n",
    "    # Now - repeat, but this time we will only take what lies between <p> and </p> tags\n",
    "    # these are HTML tags for \"paragraph\" i.e. this should give us the actual text of the article\n",
    "    soup2 = BeautifulSoup(text)\n",
    "    if soup2.find_all('p')!=[]:\n",
    "        text = ' '.join(map(lambda p: p.text, soup2.find_all('p')))\n",
    "    # use this code to get everything in that text that lies between a pair of \n",
    "    # <p> and </p> tags. We do this because we know that the URLs we are currently\n",
    "    # interested in - those from the WashingtonPost have this nice property\n",
    "    return soup.title.text, text\n",
    "# Return a pair of values (article title, article body)\n",
    "# Btw note that BeautifulSoup return the title without our doing anything special - \n",
    "# this is why BeautifulSoup works so much better than say regular expressions at parsing HTML\n"
   ]
  },
  {
   "cell_type": "code",
   "execution_count": 4,
   "metadata": {
    "collapsed": false
   },
   "outputs": [],
   "source": [
    "#chunking\n",
    "import nltk\n",
    "from nltk.tokenize import sent_tokenize,word_tokenize\n",
    "from nltk.corpus import stopwords\n",
    "from collections import defaultdict\n",
    "from string import punctuation\n",
    "from urllib import urlopen\n",
    "url = \"http://www.gutenberg.org/files/2554/2554.txt\"\n",
    "raw = urlopen(url).read()\n",
    "type(raw)\n",
    "len(raw)\n",
    " = nltk.word_tokenize(raw)\n",
    "tokens = nltk.word_tokenize(raw)\n",
    "\n"
   ]
  },
  {
   "cell_type": "code",
   "execution_count": 29,
   "metadata": {
    "collapsed": false
   },
   "outputs": [
    {
     "name": "stdout",
     "output_type": "stream",
     "text": [
      "<Text: It\\u2019s starting to look like President Trump has...>\n"
     ]
    }
   ],
   "source": [
    "import nltk\n",
    "from nltk.tokenize import sent_tokenize,word_tokenize\n",
    "from nltk.corpus import stopwords\n",
    "from collections import defaultdict\n",
    "from string import punctuation\n",
    "from urllib import urlopen\n",
    "from bs4 import BeautifulSoup\n",
    "html = urlopen(\"http://www.vox.com/world/2017/2/15/14620560/trump-flynn-russia-campaign\") \n",
    "\n",
    "bsObj = BeautifulSoup(html,\"html.parser\")\n",
    "nameList = bsObj.find('div', attrs={'class':'c-entry-content'})\n",
    "name = nameList.text.strip()\n",
    "tokens = nltk.word_tokenize(name)\n",
    "tokens[:50]\n",
    "text = nltk.Text(tokens)\n",
    "print text\n",
    "    "
   ]
  },
  {
   "cell_type": "code",
   "execution_count": 44,
   "metadata": {
    "collapsed": false
   },
   "outputs": [
    {
     "name": "stdout",
     "output_type": "stream",
     "text": [
      "0.766\n"
     ]
    }
   ],
   "source": [
    "def gender(word):\n",
    "    return {'last_letter': word[-1]}\n",
    "\n",
    "from nltk.corpus import names\n",
    "import random\n",
    "names = ([(name, 'male') for name in names.words('male.txt')] +\n",
    "[(name, 'female') for name in names.words('female.txt')])\n",
    "random.shuffle(names)\n",
    "featuresets = [(gender(n), g) for n,g in names]\n",
    "train_set, test_set = featuresets[500:], featuresets[:500]\n",
    "classifier = nltk.NaiveBayesClassifier.train(train_set)\n",
    "classifier.classify(gender('shawn'))\n",
    "classifier.classify(gender('Trinity'))\n",
    "print(nltk.classify.accuracy(classifier, test_set))\n"
   ]
  },
  {
   "cell_type": "code",
   "execution_count": 46,
   "metadata": {
    "collapsed": false
   },
   "outputs": [
    {
     "data": {
      "text/plain": [
       "6"
      ]
     },
     "execution_count": 46,
     "metadata": {},
     "output_type": "execute_result"
    }
   ],
   "source": [
    "len('abccbd')"
   ]
  },
  {
   "cell_type": "code",
   "execution_count": 47,
   "metadata": {
    "collapsed": false
   },
   "outputs": [
    {
     "data": {
      "text/plain": [
       "3"
      ]
     },
     "execution_count": 47,
     "metadata": {},
     "output_type": "execute_result"
    }
   ],
   "source": [
    "len('abc')"
   ]
  },
  {
   "cell_type": "code",
   "execution_count": 48,
   "metadata": {
    "collapsed": false
   },
   "outputs": [
    {
     "ename": "TypeError",
     "evalue": "len() takes exactly one argument (3 given)",
     "output_type": "error",
     "traceback": [
      "\u001b[1;31m---------------------------------------------------------------------------\u001b[0m",
      "\u001b[1;31mTypeError\u001b[0m                                 Traceback (most recent call last)",
      "\u001b[1;32m<ipython-input-48-70fe82b43b1a>\u001b[0m in \u001b[0;36m<module>\u001b[1;34m()\u001b[0m\n\u001b[1;32m----> 1\u001b[1;33m \u001b[0mlen\u001b[0m\u001b[1;33m(\u001b[0m\u001b[1;34m'a'\u001b[0m\u001b[1;33m,\u001b[0m\u001b[1;34m'b'\u001b[0m\u001b[1;33m,\u001b[0m\u001b[1;34m'c'\u001b[0m\u001b[1;33m)\u001b[0m\u001b[1;33m\u001b[0m\u001b[0m\n\u001b[0m",
      "\u001b[1;31mTypeError\u001b[0m: len() takes exactly one argument (3 given)"
     ]
    }
   ],
   "source": [
    "len('a','b','c')"
   ]
  },
  {
   "cell_type": "code",
   "execution_count": 49,
   "metadata": {
    "collapsed": false
   },
   "outputs": [
    {
     "data": {
      "text/plain": [
       "3"
      ]
     },
     "execution_count": 49,
     "metadata": {},
     "output_type": "execute_result"
    }
   ],
   "source": [
    "len([1,3,4])"
   ]
  },
  {
   "cell_type": "code",
   "execution_count": 51,
   "metadata": {
    "collapsed": false
   },
   "outputs": [
    {
     "data": {
      "text/plain": [
       "[1, 5467890, 3]"
      ]
     },
     "execution_count": 51,
     "metadata": {},
     "output_type": "execute_result"
    }
   ],
   "source": [
    "a = [1,2,3]\n",
    "len(a)\n",
    "a[1] = 5467890\n",
    "a\n"
   ]
  },
  {
   "cell_type": "code",
   "execution_count": 52,
   "metadata": {
    "collapsed": true
   },
   "outputs": [],
   "source": [
    "a = 43"
   ]
  },
  {
   "cell_type": "code",
   "execution_count": 53,
   "metadata": {
    "collapsed": false
   },
   "outputs": [
    {
     "data": {
      "text/plain": [
       "31688992L"
      ]
     },
     "execution_count": 53,
     "metadata": {},
     "output_type": "execute_result"
    }
   ],
   "source": [
    "id(43)"
   ]
  },
  {
   "cell_type": "code",
   "execution_count": 54,
   "metadata": {
    "collapsed": false
   },
   "outputs": [
    {
     "data": {
      "text/plain": [
       "43"
      ]
     },
     "execution_count": 54,
     "metadata": {},
     "output_type": "execute_result"
    }
   ],
   "source": [
    "b = a\n",
    "b"
   ]
  },
  {
   "cell_type": "code",
   "execution_count": 55,
   "metadata": {
    "collapsed": false
   },
   "outputs": [
    {
     "data": {
      "text/plain": [
       "[1, 9.7, 67]"
      ]
     },
     "execution_count": 55,
     "metadata": {},
     "output_type": "execute_result"
    }
   ],
   "source": [
    "c = [1,9.7,67]\n",
    "v = c\n",
    "v"
   ]
  },
  {
   "cell_type": "code",
   "execution_count": 59,
   "metadata": {
    "collapsed": false
   },
   "outputs": [
    {
     "data": {
      "text/plain": [
       "int"
      ]
     },
     "execution_count": 59,
     "metadata": {},
     "output_type": "execute_result"
    }
   ],
   "source": []
  },
  {
   "cell_type": "code",
   "execution_count": 60,
   "metadata": {
    "collapsed": false
   },
   "outputs": [
    {
     "data": {
      "text/plain": [
       "[0, 1, 2]"
      ]
     },
     "execution_count": 60,
     "metadata": {},
     "output_type": "execute_result"
    }
   ],
   "source": [
    "range(3)"
   ]
  },
  {
   "cell_type": "code",
   "execution_count": 65,
   "metadata": {
    "collapsed": false
   },
   "outputs": [
    {
     "data": {
      "text/plain": [
       "([1, 9, 67], [1, 9, 67])"
      ]
     },
     "execution_count": 65,
     "metadata": {},
     "output_type": "execute_result"
    }
   ],
   "source": [
    "v[1] = 9\n",
    "c,v"
   ]
  },
  {
   "cell_type": "code",
   "execution_count": 67,
   "metadata": {
    "collapsed": false
   },
   "outputs": [
    {
     "data": {
      "text/plain": [
       "[8, 0, 7]"
      ]
     },
     "execution_count": 67,
     "metadata": {},
     "output_type": "execute_result"
    }
   ],
   "source": [
    "f = [8,9,7]\n",
    "c = f\n",
    "f[1] = 0\n",
    "f\n",
    "c"
   ]
  },
  {
   "cell_type": "code",
   "execution_count": 71,
   "metadata": {
    "collapsed": false
   },
   "outputs": [
    {
     "name": "stdout",
     "output_type": "stream",
     "text": [
      "12\n"
     ]
    }
   ],
   "source": [
    "def add(a):\n",
    "    sum = 0\n",
    "    for i in a:\n",
    "        sum = sum + i\n",
    "    return sum\n",
    "k = add([5,4,3])\n",
    "print k"
   ]
  },
  {
   "cell_type": "code",
   "execution_count": 78,
   "metadata": {
    "collapsed": false
   },
   "outputs": [
    {
     "data": {
      "text/plain": [
       "[8, 0, 7, 43]"
      ]
     },
     "execution_count": 78,
     "metadata": {},
     "output_type": "execute_result"
    }
   ],
   "source": [
    "c + [a]"
   ]
  },
  {
   "cell_type": "code",
   "execution_count": 77,
   "metadata": {
    "collapsed": false
   },
   "outputs": [
    {
     "data": {
      "text/plain": [
       "[8, 0, 7]"
      ]
     },
     "execution_count": 77,
     "metadata": {},
     "output_type": "execute_result"
    }
   ],
   "source": [
    "c "
   ]
  },
  {
   "cell_type": "code",
   "execution_count": 80,
   "metadata": {
    "collapsed": false
   },
   "outputs": [
    {
     "data": {
      "text/plain": [
       "[8, 0, 7]"
      ]
     },
     "execution_count": 80,
     "metadata": {},
     "output_type": "execute_result"
    }
   ],
   "source": [
    "c= [8,0,7]\n",
    "j = c\n",
    "j = [4,5,6]\n",
    "c"
   ]
  },
  {
   "cell_type": "code",
   "execution_count": 83,
   "metadata": {
    "collapsed": true
   },
   "outputs": [],
   "source": [
    "j = [8,0,7]"
   ]
  },
  {
   "cell_type": "code",
   "execution_count": 84,
   "metadata": {
    "collapsed": false
   },
   "outputs": [
    {
     "data": {
      "text/plain": [
       "True"
      ]
     },
     "execution_count": 84,
     "metadata": {},
     "output_type": "execute_result"
    }
   ],
   "source": [
    "c == j"
   ]
  },
  {
   "cell_type": "code",
   "execution_count": 85,
   "metadata": {
    "collapsed": false
   },
   "outputs": [
    {
     "data": {
      "text/plain": [
       "False"
      ]
     },
     "execution_count": 85,
     "metadata": {},
     "output_type": "execute_result"
    }
   ],
   "source": [
    "c is j"
   ]
  },
  {
   "cell_type": "code",
   "execution_count": 96,
   "metadata": {
    "collapsed": false
   },
   "outputs": [
    {
     "name": "stdout",
     "output_type": "stream",
     "text": [
      "******************************\n",
      "%%%%%%%%%%%%%%%%%%%%%%%%%%%%%%\n",
      "******************************\n"
     ]
    }
   ],
   "source": [
    "def star(func):\n",
    "    def inner(*args, **kwargs):\n",
    "        print(\"*\" * 30)\n",
    "        func(*args, **kwargs)\n",
    "        print(\"*\" * 30)\n",
    "    return inner\n",
    "\n",
    "def percent(func):\n",
    "    def inner(*args, **kwargs):\n",
    "        print(\"%\" * 30)\n",
    "        #func(*args, **kwargs)\n",
    "        #print(\"%\" * 30)\n",
    "    return inner\n",
    "\n",
    "@star\n",
    "@percent\n",
    "def printer(msg):\n",
    "    print(msg)\n",
    "printer(\"Hello\")"
   ]
  },
  {
   "cell_type": "code",
   "execution_count": 15,
   "metadata": {
    "collapsed": false
   },
   "outputs": [
    {
     "name": "stdout",
     "output_type": "stream",
     "text": [
      "<type 'int'>\n",
      "  5           0 LOAD_GLOBAL              0 (len)\n",
      "              3 LOAD_FAST                0 (A)\n",
      "              6 CALL_FUNCTION            1\n",
      "              9 LOAD_CONST               1 (0)\n",
      "             12 COMPARE_OP               2 (==)\n",
      "             15 POP_JUMP_IF_FALSE       22\n",
      "\n",
      "  6          18 LOAD_CONST               1 (0)\n",
      "             21 RETURN_VALUE        \n",
      "\n",
      "  7     >>   22 LOAD_CONST               1 (0)\n",
      "             25 STORE_FAST               1 (j)\n",
      "\n",
      "  8          28 SETUP_LOOP             110 (to 141)\n",
      "             31 LOAD_GLOBAL              1 (range)\n",
      "             34 LOAD_CONST               1 (0)\n",
      "             37 LOAD_GLOBAL              0 (len)\n",
      "             40 LOAD_FAST                0 (A)\n",
      "             43 CALL_FUNCTION            1\n",
      "             46 CALL_FUNCTION            2\n",
      "             49 GET_ITER            \n",
      "        >>   50 FOR_ITER                87 (to 140)\n",
      "             53 STORE_FAST               2 (i)\n",
      "\n",
      "  9          56 LOAD_FAST                0 (A)\n",
      "             59 LOAD_FAST                2 (i)\n",
      "             62 BINARY_SUBSCR       \n",
      "             63 LOAD_FAST                0 (A)\n",
      "             66 LOAD_FAST                1 (j)\n",
      "             69 BINARY_SUBSCR       \n",
      "             70 COMPARE_OP               3 (!=)\n",
      "             73 POP_JUMP_IF_FALSE       50\n",
      "\n",
      " 10          76 LOAD_FAST                0 (A)\n",
      "             79 LOAD_FAST                1 (j)\n",
      "             82 LOAD_CONST               2 (1)\n",
      "             85 BINARY_ADD          \n",
      "             86 BINARY_SUBSCR       \n",
      "             87 LOAD_FAST                0 (A)\n",
      "             90 LOAD_FAST                2 (i)\n",
      "             93 BINARY_SUBSCR       \n",
      "             94 ROT_TWO             \n",
      "             95 LOAD_FAST                0 (A)\n",
      "             98 LOAD_FAST                2 (i)\n",
      "            101 STORE_SUBSCR        \n",
      "            102 LOAD_FAST                0 (A)\n",
      "            105 LOAD_FAST                1 (j)\n",
      "            108 LOAD_CONST               2 (1)\n",
      "            111 BINARY_ADD          \n",
      "            112 STORE_SUBSCR        \n",
      "\n",
      " 11         113 LOAD_GLOBAL              2 (pdb)\n",
      "            116 LOAD_ATTR                3 (set_trace)\n",
      "            119 CALL_FUNCTION            0\n",
      "            122 PRINT_ITEM          \n",
      "            123 PRINT_NEWLINE       \n",
      "\n",
      " 12         124 LOAD_FAST                1 (j)\n",
      "            127 LOAD_CONST               2 (1)\n",
      "            130 BINARY_ADD          \n",
      "            131 STORE_FAST               1 (j)\n",
      "            134 JUMP_ABSOLUTE           50\n",
      "            137 JUMP_ABSOLUTE           50\n",
      "        >>  140 POP_BLOCK           \n",
      "\n",
      " 13     >>  141 LOAD_GLOBAL              4 (type)\n",
      "            144 LOAD_FAST                1 (j)\n",
      "            147 CALL_FUNCTION            1\n",
      "            150 PRINT_ITEM          \n",
      "            151 PRINT_NEWLINE       \n",
      "\n",
      " 14         152 LOAD_FAST                1 (j)\n",
      "            155 LOAD_CONST               2 (1)\n",
      "            158 BINARY_ADD          \n",
      "            159 LOAD_FAST                1 (j)\n",
      "            162 BUILD_TUPLE              2\n",
      "            165 RETURN_VALUE        \n"
     ]
    }
   ],
   "source": [
    "import inspect\n",
    "import dis\n",
    "import pdb\n",
    "def removeDuplicates(A):\n",
    "    if len(A) == 0:\n",
    "        return 0\n",
    "    j = 0\n",
    "    for i in range(0, len(A)):\n",
    "        if A[i] != A[j]:\n",
    "            A[i], A[j+1] = A[j+1], A[i]\n",
    "            print pdb.set_trace()\n",
    "            j = j + 1\n",
    "    print type(j)            \n",
    "    return j+1,j\n",
    "\n",
    "\n",
    "k = removeDuplicates([1])\n",
    "# print k\n",
    "# print inspect.stack()\n",
    "dis.dis(removeDuplicates)"
   ]
  },
  {
   "cell_type": "code",
   "execution_count": 25,
   "metadata": {
    "collapsed": false
   },
   "outputs": [
    {
     "name": "stdout",
     "output_type": "stream",
     "text": [
      "None\n"
     ]
    }
   ],
   "source": [
    "def moveZeroes(nums):\n",
    "        \n",
    "        \"\"\"\n",
    "        :type nums: List[int]\n",
    "        :rtype: void Do not return anything, modify nums in-place instead.\n",
    "        \"\"\"\n",
    "        k = []\n",
    "        start, end = 0, len(nums) - 1\n",
    "        while start < end:\n",
    "            \n",
    "            if nums[start] == 0:\n",
    "                nums[start], nums[end], end = nums[end], nums[start], end - 1\n",
    "            else:\n",
    "                \n",
    "                start += 1\n",
    "        \n",
    "        b = nums[:start]\n",
    "        b.sort()\n",
    "        k + b\n",
    "        mod_list = k + b + nums[start:]\n",
    "        return mod_list\n",
    "ok = moveZeroes([0,1,0,3,12]) \n",
    "print ok\n",
    "    "
   ]
  },
  {
   "cell_type": "code",
   "execution_count": null,
   "metadata": {
    "collapsed": true
   },
   "outputs": [],
   "source": []
  }
 ],
 "metadata": {
  "kernelspec": {
   "display_name": "Python 2",
   "language": "python",
   "name": "python2"
  },
  "language_info": {
   "codemirror_mode": {
    "name": "ipython",
    "version": 2
   },
   "file_extension": ".py",
   "mimetype": "text/x-python",
   "name": "python",
   "nbconvert_exporter": "python",
   "pygments_lexer": "ipython2",
   "version": "2.7.12"
  }
 },
 "nbformat": 4,
 "nbformat_minor": 0
}
