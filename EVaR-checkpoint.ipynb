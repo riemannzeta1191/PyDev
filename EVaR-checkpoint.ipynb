{
 "cells": [
  {
   "cell_type": "code",
   "execution_count": 9,
   "metadata": {
    "collapsed": false
   },
   "outputs": [
    {
     "name": "stdout",
     "output_type": "stream",
     "text": [
      "0.0158213766136\n"
     ]
    },
    {
     "data": {
      "text/plain": [
       "0.01853327329"
      ]
     },
     "execution_count": 9,
     "metadata": {},
     "output_type": "execute_result"
    }
   ],
   "source": [
    "import numpy as np\n",
    "import math\n",
    "from scipy.stats import skew, kurtosis, kurtosistest\n",
    "import matplotlib.pyplot as plt\n",
    "from scipy.stats import norm, t\n",
    "import pandas_datareader.data as web\n",
    "from pandas_datareader import data, wb\n",
    "from scipy.stats import genextreme as gev, kstest\n",
    "from numpy import linspace\n",
    "\n",
    " \n",
    "# Fetching Yahoo! Finance for IBM stock data\n",
    "data = web.DataReader(\"IBM\", data_source='yahoo',\n",
    "                  start='2000-12-01', end='2015-12-01')['Adj Close']\n",
    "cp = np.array(data.values)  # daily adj-close prices\n",
    "ret = cp[1:]/cp[:-1] - 1    # compute daily returns\n",
    " \n",
    "# Plotting IBM price- and return-series\n",
    "plt.figure(num=2, figsize=(9, 6))\n",
    "plt.subplot(2, 1, 1)\n",
    "plt.plot(cp)\n",
    "plt.axis(\"tight\")\n",
    "plt.ylabel(\"IBM Adj Close [USD]\")\n",
    "plt.subplot(2, 1, 2)\n",
    "plt.plot(ret, color=(.6, .6, .6))\n",
    "plt.axis(\"tight\")\n",
    "plt.ylabel(\"Daily Returns\")\n",
    "plt.xlabel(\"Time Period 2010-12-01 to 2015-12-01 [days]\")\n",
    "#plt.show()\n",
    "sorted_returns = np.sort(ret)\n",
    "#print sorted_returns\n",
    "losses10 = sorted_returns[-20:]\n",
    "#print losses10\n",
    "x = np.linspace(0, 2, 200)\n",
    "efit = gev.fit(losses10)\n",
    "#print efit\n",
    "\n",
    "\n",
    "fig, ax = plt.subplots(1, 1)\n",
    "\n",
    "\n",
    "x = np.linspace(gev.ppf(0.01, efit[0]),gev.ppf(0.99, efit[0]), 100) \n",
    "ax.plot(x, gev.pdf(x, efit[0]), 'r-', lw=5, alpha=0.6, label='genextreme pdf')\n",
    "\n",
    "#plt.plot(x, gev.pdf(x, *fit))\n",
    "\n",
    "\n",
    "# Kolgomorov-Smirnoff test for normality\n",
    " #def kstest(ret, 'norm'):\n",
    "        \n",
    "\n",
    "\n",
    "#it is following a Weibull distribution (20 gretaest numbers of the returns)\n",
    "\n",
    "\n",
    "def var(ret, alpha):\n",
    "    # This method calculates the historical simulation var of the returns\n",
    "    sorted_returns = np.sort(ret)\n",
    "    print sorted_returns\n",
    "    # Calculate the index associated with alpha\n",
    "    index = int(alpha * len(sorted_returns))\n",
    "    # VaR should be positive\n",
    "    return abs(sorted_returns[index])\n",
    "# EVaR\n",
    "#EVaR=0.01523739380860227-(0.068470845460219504/-0.23716221748545008)*(1-(-20*math.log(0.95 )^(-20*-0.23716221748545008))\n",
    "#print EVaR\n",
    "                                                                      \n",
    "param = norm.fit(ret)\n",
    "x = linspace(-1,1,100)\n",
    "# fitted distribution\n",
    "pdf_fitted = norm.pdf(x,loc=param[0],scale=param[1])\n",
    "# original distribution\n",
    "pdf = norm.pdf(x)\n",
    "\n",
    "plt.title('Normal distribution')\n",
    "plt.plot(x,pdf_fitted,'r-',x,pdf,'b-')\n",
    "plt.hist(ret,normed=1,alpha=.3)\n",
    "plt.show()\n",
    "                                                                      \n",
    "                                                                      \n",
    "def vol(returns):\n",
    "# Return the standard deviation of returns\n",
    "    return np.std(ret)\n",
    "v = vol(ret)\n",
    "print v\n",
    "                                                                      \n",
    "def cvar(returns, alpha):\n",
    "    # This method calculates the condition VaR of the returns\n",
    "    sorted_returns = numpy.sort(ret)\n",
    "    # Calculate the index associated with alpha\n",
    "    index = int(alpha * len(sorted_returns))\n",
    "    # Calculate the total VaR beyond alpha\n",
    "    sum_var = sorted_returns[0]\n",
    "    for i in range(1, index):\n",
    "        sum_var += sorted_returns[i]\n",
    "    # Return the average VaR\n",
    "    # CVaR should be positive\n",
    "    return abs(sum_var / index)\n",
    "\n",
    "                                                                      \n",
    "\n",
    "0.01853327329"
   ]
  },
  {
   "cell_type": "code",
   "execution_count": null,
   "metadata": {
    "collapsed": true
   },
   "outputs": [],
   "source": []
  }
 ],
 "metadata": {
  "kernelspec": {
   "display_name": "Python 2",
   "language": "python",
   "name": "python2"
  },
  "language_info": {
   "codemirror_mode": {
    "name": "ipython",
    "version": 2
   },
   "file_extension": ".py",
   "mimetype": "text/x-python",
   "name": "python",
   "nbconvert_exporter": "python",
   "pygments_lexer": "ipython2",
   "version": "2.7.11"
  }
 },
 "nbformat": 4,
 "nbformat_minor": 0
}
